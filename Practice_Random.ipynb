{
 "cells": [
  {
   "cell_type": "code",
   "execution_count": 4,
   "id": "872a3235",
   "metadata": {},
   "outputs": [
    {
     "data": {
      "text/plain": [
       "0.2789904156008728"
      ]
     },
     "execution_count": 4,
     "metadata": {},
     "output_type": "execute_result"
    }
   ],
   "source": [
    "# Import the random module.\n",
    "import random\n",
    "random.random()"
   ]
  },
  {
   "cell_type": "code",
   "execution_count": 5,
   "id": "5d4719b3",
   "metadata": {},
   "outputs": [
    {
     "data": {
      "text/plain": [
       "28"
      ]
     },
     "execution_count": 5,
     "metadata": {},
     "output_type": "execute_result"
    }
   ],
   "source": [
    "random.randint(9,29)"
   ]
  },
  {
   "cell_type": "code",
   "execution_count": 8,
   "id": "0ef5ae40",
   "metadata": {},
   "outputs": [
    {
     "data": {
      "text/plain": [
       "-89"
      ]
     },
     "execution_count": 8,
     "metadata": {},
     "output_type": "execute_result"
    }
   ],
   "source": [
    "random.randint(-90,90)"
   ]
  },
  {
   "cell_type": "code",
   "execution_count": 14,
   "id": "0799e2cf",
   "metadata": {},
   "outputs": [
    {
     "data": {
      "text/plain": [
       "-17.42732728162906"
      ]
     },
     "execution_count": 14,
     "metadata": {},
     "output_type": "execute_result"
    }
   ],
   "source": [
    "# Import the NumPy module.\n",
    "import numpy as np\n",
    "np.random.uniform(-90.000,90.000)"
   ]
  },
  {
   "cell_type": "code",
   "execution_count": 15,
   "id": "39584128",
   "metadata": {},
   "outputs": [
    {
     "data": {
      "text/plain": [
       "8.246843444351427"
      ]
     },
     "execution_count": 15,
     "metadata": {},
     "output_type": "execute_result"
    }
   ],
   "source": [
    "np.random.uniform(low=-90, high=90)"
   ]
  },
  {
   "cell_type": "code",
   "execution_count": 16,
   "id": "0ee8993c",
   "metadata": {},
   "outputs": [
    {
     "data": {
      "text/plain": [
       "array([-65.37006371, -59.1547104 ,  64.44293119,  17.6130691 ,\n",
       "         4.4949482 , -19.43209923,  87.54445623, -68.17510605,\n",
       "        49.85042302, -70.87908135, -70.10415844, -25.3207578 ,\n",
       "        34.54424527, -71.65388228, -36.0652544 ,  74.96479939,\n",
       "       -25.84633461, -81.14578089, -53.40200531,  46.54087269,\n",
       "       -34.04602099,   9.76097834, -87.54768125,  23.36664492,\n",
       "        29.52200839,  56.54256967,   8.50209049,   9.51120949,\n",
       "       -21.2849291 , -83.92153645, -66.08676804,  23.61719042,\n",
       "        14.99285724,  31.12316121, -10.10971606,  -4.29543513,\n",
       "       -37.27456116,  60.32649604, -57.30625679, -89.79540279,\n",
       "       -88.72814663, -84.44411187,  46.15440952,   6.47996683,\n",
       "        21.47030135,  -8.26989755,  47.46177442, -73.21400539,\n",
       "       -10.75730395,  58.40495941])"
      ]
     },
     "execution_count": 16,
     "metadata": {},
     "output_type": "execute_result"
    }
   ],
   "source": [
    "np.random.uniform(-90.000, 90.000, size=50)"
   ]
  },
  {
   "cell_type": "code",
   "execution_count": 17,
   "id": "5af22c1d",
   "metadata": {},
   "outputs": [
    {
     "name": "stdout",
     "output_type": "stream",
     "text": [
      "9.96 µs ± 236 ns per loop (mean ± std. dev. of 7 runs, 100000 loops each)\n"
     ]
    }
   ],
   "source": [
    "# Import timeit.\n",
    "import timeit\n",
    "%timeit np.random.uniform(-90.000, 90.000, size=1500)"
   ]
  },
  {
   "cell_type": "code",
   "execution_count": 18,
   "id": "cd2ede78",
   "metadata": {},
   "outputs": [
    {
     "name": "stdout",
     "output_type": "stream",
     "text": [
      "1.33 ms ± 20.4 µs per loop (mean ± std. dev. of 7 runs, 1000 loops each)\n"
     ]
    }
   ],
   "source": [
    "def latitudes(size):\n",
    "    latitudes = []\n",
    "    x = 0\n",
    "    while x < (size):\n",
    "        random_lat = random.randint(-90, 90) + random.random()\n",
    "        latitudes.append(random_lat)\n",
    "        x += 1\n",
    "    return latitudes\n",
    "# Call the function with 1500.\n",
    "%timeit latitudes(1500)"
   ]
  },
  {
   "cell_type": "code",
   "execution_count": 19,
   "id": "7c3d1bc0",
   "metadata": {},
   "outputs": [
    {
     "name": "stdout",
     "output_type": "stream",
     "text": [
      "9.89 µs ± 234 ns per loop (mean ± std. dev. of 7 runs, 100000 loops each)\n"
     ]
    }
   ],
   "source": [
    "%timeit np.random.uniform(-90.000, 89.000, size=1500)"
   ]
  },
  {
   "cell_type": "code",
   "execution_count": null,
   "id": "0894cd73",
   "metadata": {},
   "outputs": [],
   "source": []
  }
 ],
 "metadata": {
  "kernelspec": {
   "display_name": "PythonData",
   "language": "python",
   "name": "pythondata"
  },
  "language_info": {
   "codemirror_mode": {
    "name": "ipython",
    "version": 3
   },
   "file_extension": ".py",
   "mimetype": "text/x-python",
   "name": "python",
   "nbconvert_exporter": "python",
   "pygments_lexer": "ipython3",
   "version": "3.7.11"
  }
 },
 "nbformat": 4,
 "nbformat_minor": 5
}
